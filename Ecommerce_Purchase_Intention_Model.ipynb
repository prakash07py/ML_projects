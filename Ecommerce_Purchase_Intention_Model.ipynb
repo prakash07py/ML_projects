{
 "cells": [
  {
   "cell_type": "markdown",
   "id": "0fcc4504",
   "metadata": {},
   "source": [
    "#ECOMMERCE PROJECT: CUSTOMER PURCHASE INTENTION MODEL"
   ]
  },
  {
   "cell_type": "markdown",
   "id": "353907c2",
   "metadata": {},
   "source": [
    "**Objective**:This is a Classification Model intented to Predict that whether Customer will make the purchase or not. The use case of this model is to examine real time web analytics data and predict the probability of each customers making a purchase, which will enable the retailer to carefully implement targeted promotions and other marketing strategies for pursuading those customers who are less likely to make a  purchase."
   ]
  },
  {
   "cell_type": "markdown",
   "id": "cab7a9c6",
   "metadata": {},
   "source": [
    "***Any Ecommerce Application goal is to Convert the browsers into the buyers.***"
   ]
  },
  {
   "cell_type": "code",
   "execution_count": 1,
   "id": "b9d165c7",
   "metadata": {},
   "outputs": [],
   "source": [
    "#Ecommerce purchase intention model predict the probability of each customer making a purchase or not.\n",
    "#Once we can identify the potential buyers then we can target those customers.\n",
    "#We will build a model that will help us to know how the customers intent works to enable them for purchase.\n",
    "#This model will analyse consumer behaviour data from web analytics platforms.\n",
    "#after the analysis it can predict whether a customer will make a purchase during their visit.\n",
    "#The things that are monitored using web analytics data are-\n",
    "    #Number of times URLs visited,\n",
    "    #Information about the Product,\n",
    "    #Time Spent on Pages,\n",
    "    #Number of each Page Type visited.(PageTypes examples-Homepage, Product page, Review page etc.)"
   ]
  },
  {
   "cell_type": "code",
   "execution_count": null,
   "id": "85373249",
   "metadata": {},
   "outputs": [],
   "source": []
  },
  {
   "cell_type": "markdown",
   "id": "7dbf5888",
   "metadata": {},
   "source": [
    "#Importing required Libraries"
   ]
  },
  {
   "cell_type": "code",
   "execution_count": 2,
   "id": "c633abb2",
   "metadata": {},
   "outputs": [],
   "source": [
    "import time\n",
    "import pandas as pd\n",
    "import numpy as np\n",
    "import seaborn as sns\n",
    "import matplotlib.pyplot as plt\n",
    "\n",
    "from sklearn.model_selection import train_test_split\n",
    "from sklearn.model_selection import cross_val_score\n",
    "from sklearn.model_selection import GridSearchCV\n",
    "\n",
    "from sklearn.feature_selection import SelectKBest\n",
    "from sklearn.feature_selection import chi2\n",
    "\n",
    "from imblearn.over_sampling import SMOTE\n",
    "\n",
    "from imblearn.pipeline import Pipeline as imbpipeline\n",
    "from sklearn.pipeline import Pipeline\n",
    "\n",
    "from sklearn.compose import ColumnTransformer\n",
    "from sklearn.impute import SimpleImputer\n",
    "\n",
    "from sklearn.preprocessing import OneHotEncoder\n",
    "from sklearn.preprocessing import OrdinalEncoder\n",
    "from sklearn.preprocessing import StandardScaler\n",
    "from sklearn.preprocessing import MinMaxScaler\n",
    "\n",
    "from sklearn.metrics import accuracy_score\n",
    "from sklearn.metrics import roc_auc_score\n",
    "from sklearn.metrics import classification_report\n",
    "from sklearn.metrics import confusion_matrix\n",
    "from sklearn.metrics import f1_score\n",
    "\n",
    "from sklearn.svm import SVC\n",
    "from xgboost import XGBClassifier\n",
    "from lightgbm import LGBMClassifier\n",
    "from sklearn.dummy import DummyClassifier\n",
    "from sklearn.neighbors import KNeighborsClassifier\n",
    "from sklearn.tree import DecisionTreeClassifier\n",
    "from sklearn.tree import ExtraTreeClassifier\n",
    "from sklearn.ensemble import ExtraTreesClassifier\n",
    "from sklearn.linear_model import RidgeClassifier\n",
    "from sklearn.linear_model import SGDClassifier\n",
    "from sklearn.ensemble import RandomForestClassifier\n",
    "from sklearn.ensemble import AdaBoostClassifier\n",
    "from sklearn.ensemble import BaggingClassifier\n",
    "from sklearn.naive_bayes import BernoulliNB\n",
    "from sklearn.neural_network import MLPClassifier\n",
    "\n"
   ]
  },
  {
   "cell_type": "markdown",
   "id": "bc64bbdd",
   "metadata": {},
   "source": [
    "***To ignore warnings***"
   ]
  },
  {
   "cell_type": "code",
   "execution_count": 3,
   "id": "030f2b9c",
   "metadata": {},
   "outputs": [],
   "source": [
    "from warnings import simplefilter\n",
    "from sklearn.exceptions import ConvergenceWarning\n",
    "simplefilter(\"ignore\",category=ConvergenceWarning)"
   ]
  },
  {
   "cell_type": "code",
   "execution_count": 4,
   "id": "80d8f8ac",
   "metadata": {},
   "outputs": [],
   "source": [
    "import warnings\n",
    "warnings.filterwarnings(\"ignore\")"
   ]
  },
  {
   "cell_type": "markdown",
   "id": "ead81923",
   "metadata": {},
   "source": [
    "#Loading Dataset"
   ]
  },
  {
   "cell_type": "code",
   "execution_count": 5,
   "id": "91ad5d15",
   "metadata": {},
   "outputs": [],
   "source": [
    "df=pd.read_csv(\"online_shoppers_intention.csv\")"
   ]
  },
  {
   "cell_type": "markdown",
   "id": "36515d02",
   "metadata": {},
   "source": [
    "***Checking first five rows of the dataset***"
   ]
  },
  {
   "cell_type": "code",
   "execution_count": 6,
   "id": "8b7f1973",
   "metadata": {},
   "outputs": [
    {
     "data": {
      "text/html": [
       "<div>\n",
       "<style scoped>\n",
       "    .dataframe tbody tr th:only-of-type {\n",
       "        vertical-align: middle;\n",
       "    }\n",
       "\n",
       "    .dataframe tbody tr th {\n",
       "        vertical-align: top;\n",
       "    }\n",
       "\n",
       "    .dataframe thead th {\n",
       "        text-align: right;\n",
       "    }\n",
       "</style>\n",
       "<table border=\"1\" class=\"dataframe\">\n",
       "  <thead>\n",
       "    <tr style=\"text-align: right;\">\n",
       "      <th></th>\n",
       "      <th>Administrative</th>\n",
       "      <th>Administrative_Duration</th>\n",
       "      <th>Informational</th>\n",
       "      <th>Informational_Duration</th>\n",
       "      <th>ProductRelated</th>\n",
       "      <th>ProductRelated_Duration</th>\n",
       "      <th>BounceRates</th>\n",
       "      <th>ExitRates</th>\n",
       "      <th>PageValues</th>\n",
       "      <th>SpecialDay</th>\n",
       "      <th>Month</th>\n",
       "      <th>OperatingSystems</th>\n",
       "      <th>Browser</th>\n",
       "      <th>Region</th>\n",
       "      <th>TrafficType</th>\n",
       "      <th>VisitorType</th>\n",
       "      <th>Weekend</th>\n",
       "      <th>Revenue</th>\n",
       "    </tr>\n",
       "  </thead>\n",
       "  <tbody>\n",
       "    <tr>\n",
       "      <th>0</th>\n",
       "      <td>0</td>\n",
       "      <td>0.0</td>\n",
       "      <td>0</td>\n",
       "      <td>0.0</td>\n",
       "      <td>1</td>\n",
       "      <td>0.000000</td>\n",
       "      <td>0.20</td>\n",
       "      <td>0.20</td>\n",
       "      <td>0.0</td>\n",
       "      <td>0.0</td>\n",
       "      <td>Feb</td>\n",
       "      <td>1</td>\n",
       "      <td>1</td>\n",
       "      <td>1</td>\n",
       "      <td>1</td>\n",
       "      <td>Returning_Visitor</td>\n",
       "      <td>False</td>\n",
       "      <td>False</td>\n",
       "    </tr>\n",
       "    <tr>\n",
       "      <th>1</th>\n",
       "      <td>0</td>\n",
       "      <td>0.0</td>\n",
       "      <td>0</td>\n",
       "      <td>0.0</td>\n",
       "      <td>2</td>\n",
       "      <td>64.000000</td>\n",
       "      <td>0.00</td>\n",
       "      <td>0.10</td>\n",
       "      <td>0.0</td>\n",
       "      <td>0.0</td>\n",
       "      <td>Feb</td>\n",
       "      <td>2</td>\n",
       "      <td>2</td>\n",
       "      <td>1</td>\n",
       "      <td>2</td>\n",
       "      <td>Returning_Visitor</td>\n",
       "      <td>False</td>\n",
       "      <td>False</td>\n",
       "    </tr>\n",
       "    <tr>\n",
       "      <th>2</th>\n",
       "      <td>0</td>\n",
       "      <td>0.0</td>\n",
       "      <td>0</td>\n",
       "      <td>0.0</td>\n",
       "      <td>1</td>\n",
       "      <td>0.000000</td>\n",
       "      <td>0.20</td>\n",
       "      <td>0.20</td>\n",
       "      <td>0.0</td>\n",
       "      <td>0.0</td>\n",
       "      <td>Feb</td>\n",
       "      <td>4</td>\n",
       "      <td>1</td>\n",
       "      <td>9</td>\n",
       "      <td>3</td>\n",
       "      <td>Returning_Visitor</td>\n",
       "      <td>False</td>\n",
       "      <td>False</td>\n",
       "    </tr>\n",
       "    <tr>\n",
       "      <th>3</th>\n",
       "      <td>0</td>\n",
       "      <td>0.0</td>\n",
       "      <td>0</td>\n",
       "      <td>0.0</td>\n",
       "      <td>2</td>\n",
       "      <td>2.666667</td>\n",
       "      <td>0.05</td>\n",
       "      <td>0.14</td>\n",
       "      <td>0.0</td>\n",
       "      <td>0.0</td>\n",
       "      <td>Feb</td>\n",
       "      <td>3</td>\n",
       "      <td>2</td>\n",
       "      <td>2</td>\n",
       "      <td>4</td>\n",
       "      <td>Returning_Visitor</td>\n",
       "      <td>False</td>\n",
       "      <td>False</td>\n",
       "    </tr>\n",
       "    <tr>\n",
       "      <th>4</th>\n",
       "      <td>0</td>\n",
       "      <td>0.0</td>\n",
       "      <td>0</td>\n",
       "      <td>0.0</td>\n",
       "      <td>10</td>\n",
       "      <td>627.500000</td>\n",
       "      <td>0.02</td>\n",
       "      <td>0.05</td>\n",
       "      <td>0.0</td>\n",
       "      <td>0.0</td>\n",
       "      <td>Feb</td>\n",
       "      <td>3</td>\n",
       "      <td>3</td>\n",
       "      <td>1</td>\n",
       "      <td>4</td>\n",
       "      <td>Returning_Visitor</td>\n",
       "      <td>True</td>\n",
       "      <td>False</td>\n",
       "    </tr>\n",
       "  </tbody>\n",
       "</table>\n",
       "</div>"
      ],
      "text/plain": [
       "   Administrative  Administrative_Duration  Informational  \\\n",
       "0               0                      0.0              0   \n",
       "1               0                      0.0              0   \n",
       "2               0                      0.0              0   \n",
       "3               0                      0.0              0   \n",
       "4               0                      0.0              0   \n",
       "\n",
       "   Informational_Duration  ProductRelated  ProductRelated_Duration  \\\n",
       "0                     0.0               1                 0.000000   \n",
       "1                     0.0               2                64.000000   \n",
       "2                     0.0               1                 0.000000   \n",
       "3                     0.0               2                 2.666667   \n",
       "4                     0.0              10               627.500000   \n",
       "\n",
       "   BounceRates  ExitRates  PageValues  SpecialDay Month  OperatingSystems  \\\n",
       "0         0.20       0.20         0.0         0.0   Feb                 1   \n",
       "1         0.00       0.10         0.0         0.0   Feb                 2   \n",
       "2         0.20       0.20         0.0         0.0   Feb                 4   \n",
       "3         0.05       0.14         0.0         0.0   Feb                 3   \n",
       "4         0.02       0.05         0.0         0.0   Feb                 3   \n",
       "\n",
       "   Browser  Region  TrafficType        VisitorType  Weekend  Revenue  \n",
       "0        1       1            1  Returning_Visitor    False    False  \n",
       "1        2       1            2  Returning_Visitor    False    False  \n",
       "2        1       9            3  Returning_Visitor    False    False  \n",
       "3        2       2            4  Returning_Visitor    False    False  \n",
       "4        3       1            4  Returning_Visitor     True    False  "
      ]
     },
     "execution_count": 6,
     "metadata": {},
     "output_type": "execute_result"
    }
   ],
   "source": [
    "df.head()"
   ]
  },
  {
   "cell_type": "markdown",
   "id": "8263305b",
   "metadata": {},
   "source": [
    "***Checking no. of rows and columns***"
   ]
  },
  {
   "cell_type": "code",
   "execution_count": 7,
   "id": "121336f5",
   "metadata": {},
   "outputs": [
    {
     "data": {
      "text/plain": [
       "(12330, 18)"
      ]
     },
     "execution_count": 7,
     "metadata": {},
     "output_type": "execute_result"
    }
   ],
   "source": [
    "df.shape"
   ]
  },
  {
   "cell_type": "markdown",
   "id": "b34bb6d3",
   "metadata": {},
   "source": [
    "***Checking Dataset Information***"
   ]
  },
  {
   "cell_type": "code",
   "execution_count": 8,
   "id": "b4b88b8a",
   "metadata": {},
   "outputs": [
    {
     "name": "stdout",
     "output_type": "stream",
     "text": [
      "<class 'pandas.core.frame.DataFrame'>\n",
      "RangeIndex: 12330 entries, 0 to 12329\n",
      "Data columns (total 18 columns):\n",
      " #   Column                   Non-Null Count  Dtype  \n",
      "---  ------                   --------------  -----  \n",
      " 0   Administrative           12330 non-null  int64  \n",
      " 1   Administrative_Duration  12330 non-null  float64\n",
      " 2   Informational            12330 non-null  int64  \n",
      " 3   Informational_Duration   12330 non-null  float64\n",
      " 4   ProductRelated           12330 non-null  int64  \n",
      " 5   ProductRelated_Duration  12330 non-null  float64\n",
      " 6   BounceRates              12330 non-null  float64\n",
      " 7   ExitRates                12330 non-null  float64\n",
      " 8   PageValues               12330 non-null  float64\n",
      " 9   SpecialDay               12330 non-null  float64\n",
      " 10  Month                    12330 non-null  object \n",
      " 11  OperatingSystems         12330 non-null  int64  \n",
      " 12  Browser                  12330 non-null  int64  \n",
      " 13  Region                   12330 non-null  int64  \n",
      " 14  TrafficType              12330 non-null  int64  \n",
      " 15  VisitorType              12330 non-null  object \n",
      " 16  Weekend                  12330 non-null  bool   \n",
      " 17  Revenue                  12330 non-null  bool   \n",
      "dtypes: bool(2), float64(7), int64(7), object(2)\n",
      "memory usage: 1.5+ MB\n"
     ]
    }
   ],
   "source": [
    "df.info()"
   ]
  },
  {
   "cell_type": "markdown",
   "id": "0830aed0",
   "metadata": {},
   "source": [
    "#Feature Engineering"
   ]
  },
  {
   "cell_type": "markdown",
   "id": "e6fd2239",
   "metadata": {},
   "source": [
    "***converting boolean data type columns of Weekend and Revenue into binary values using replace() methods***"
   ]
  },
  {
   "cell_type": "code",
   "execution_count": 9,
   "id": "1567df73",
   "metadata": {},
   "outputs": [
    {
     "data": {
      "text/plain": [
       "array([False,  True])"
      ]
     },
     "execution_count": 9,
     "metadata": {},
     "output_type": "execute_result"
    }
   ],
   "source": [
    "df[\"Weekend\"].unique() #checking unique values in Weekend column."
   ]
  },
  {
   "cell_type": "code",
   "execution_count": 10,
   "id": "739383ab",
   "metadata": {},
   "outputs": [],
   "source": [
    "df[\"Weekend\"]=df[\"Weekend\"].replace((True,False),(1,0))"
   ]
  },
  {
   "cell_type": "code",
   "execution_count": 11,
   "id": "b75cba75",
   "metadata": {},
   "outputs": [
    {
     "data": {
      "text/plain": [
       "array([False,  True])"
      ]
     },
     "execution_count": 11,
     "metadata": {},
     "output_type": "execute_result"
    }
   ],
   "source": [
    "df[\"Revenue\"].unique() #checking unique values in Revenue column."
   ]
  },
  {
   "cell_type": "code",
   "execution_count": 12,
   "id": "48f5259e",
   "metadata": {},
   "outputs": [],
   "source": [
    "df[\"Revenue\"]=df[\"Revenue\"].replace((True,False),(1,0))"
   ]
  },
  {
   "cell_type": "markdown",
   "id": "b46116fb",
   "metadata": {},
   "source": [
    "***adding new column \"Returning_Visitor\" after handeling VisitorType object dtypes into binary***"
   ]
  },
  {
   "cell_type": "code",
   "execution_count": 13,
   "id": "7d5f2613",
   "metadata": {},
   "outputs": [
    {
     "data": {
      "text/plain": [
       "array(['Returning_Visitor', 'New_Visitor', 'Other'], dtype=object)"
      ]
     },
     "execution_count": 13,
     "metadata": {},
     "output_type": "execute_result"
    }
   ],
   "source": [
    "df.VisitorType.unique()"
   ]
  },
  {
   "cell_type": "code",
   "execution_count": 14,
   "id": "d6a8e74c",
   "metadata": {},
   "outputs": [],
   "source": [
    "#VisitorType contains either Returning or New Visitor, for us one value is enough because other value is opp. to existing value.\n",
    "#Adding Returning_Visitor column to existing dataframe."
   ]
  },
  {
   "cell_type": "code",
   "execution_count": 15,
   "id": "1e04871a",
   "metadata": {},
   "outputs": [],
   "source": [
    "condition=df[\"VisitorType\"]==\"Returning_Visitor\""
   ]
  },
  {
   "cell_type": "code",
   "execution_count": 16,
   "id": "c8dc4a02",
   "metadata": {},
   "outputs": [],
   "source": [
    "df[\"Returning_Visitor\"]=np.where(condition,1,0)"
   ]
  },
  {
   "cell_type": "code",
   "execution_count": 17,
   "id": "95fd37cd",
   "metadata": {},
   "outputs": [],
   "source": [
    "df=df.drop(columns=\"VisitorType\") #Dropping Visitor_type column since it is not needed anymore."
   ]
  },
  {
   "cell_type": "code",
   "execution_count": 18,
   "id": "0f7c4876",
   "metadata": {},
   "outputs": [
    {
     "data": {
      "text/html": [
       "<div>\n",
       "<style scoped>\n",
       "    .dataframe tbody tr th:only-of-type {\n",
       "        vertical-align: middle;\n",
       "    }\n",
       "\n",
       "    .dataframe tbody tr th {\n",
       "        vertical-align: top;\n",
       "    }\n",
       "\n",
       "    .dataframe thead th {\n",
       "        text-align: right;\n",
       "    }\n",
       "</style>\n",
       "<table border=\"1\" class=\"dataframe\">\n",
       "  <thead>\n",
       "    <tr style=\"text-align: right;\">\n",
       "      <th></th>\n",
       "      <th>Administrative</th>\n",
       "      <th>Administrative_Duration</th>\n",
       "      <th>Informational</th>\n",
       "      <th>Informational_Duration</th>\n",
       "      <th>ProductRelated</th>\n",
       "      <th>ProductRelated_Duration</th>\n",
       "      <th>BounceRates</th>\n",
       "      <th>ExitRates</th>\n",
       "      <th>PageValues</th>\n",
       "      <th>SpecialDay</th>\n",
       "      <th>Month</th>\n",
       "      <th>OperatingSystems</th>\n",
       "      <th>Browser</th>\n",
       "      <th>Region</th>\n",
       "      <th>TrafficType</th>\n",
       "      <th>Weekend</th>\n",
       "      <th>Revenue</th>\n",
       "      <th>Returning_Visitor</th>\n",
       "    </tr>\n",
       "  </thead>\n",
       "  <tbody>\n",
       "    <tr>\n",
       "      <th>0</th>\n",
       "      <td>0</td>\n",
       "      <td>0.0</td>\n",
       "      <td>0</td>\n",
       "      <td>0.0</td>\n",
       "      <td>1</td>\n",
       "      <td>0.000000</td>\n",
       "      <td>0.20</td>\n",
       "      <td>0.20</td>\n",
       "      <td>0.0</td>\n",
       "      <td>0.0</td>\n",
       "      <td>Feb</td>\n",
       "      <td>1</td>\n",
       "      <td>1</td>\n",
       "      <td>1</td>\n",
       "      <td>1</td>\n",
       "      <td>0</td>\n",
       "      <td>0</td>\n",
       "      <td>1</td>\n",
       "    </tr>\n",
       "    <tr>\n",
       "      <th>1</th>\n",
       "      <td>0</td>\n",
       "      <td>0.0</td>\n",
       "      <td>0</td>\n",
       "      <td>0.0</td>\n",
       "      <td>2</td>\n",
       "      <td>64.000000</td>\n",
       "      <td>0.00</td>\n",
       "      <td>0.10</td>\n",
       "      <td>0.0</td>\n",
       "      <td>0.0</td>\n",
       "      <td>Feb</td>\n",
       "      <td>2</td>\n",
       "      <td>2</td>\n",
       "      <td>1</td>\n",
       "      <td>2</td>\n",
       "      <td>0</td>\n",
       "      <td>0</td>\n",
       "      <td>1</td>\n",
       "    </tr>\n",
       "    <tr>\n",
       "      <th>2</th>\n",
       "      <td>0</td>\n",
       "      <td>0.0</td>\n",
       "      <td>0</td>\n",
       "      <td>0.0</td>\n",
       "      <td>1</td>\n",
       "      <td>0.000000</td>\n",
       "      <td>0.20</td>\n",
       "      <td>0.20</td>\n",
       "      <td>0.0</td>\n",
       "      <td>0.0</td>\n",
       "      <td>Feb</td>\n",
       "      <td>4</td>\n",
       "      <td>1</td>\n",
       "      <td>9</td>\n",
       "      <td>3</td>\n",
       "      <td>0</td>\n",
       "      <td>0</td>\n",
       "      <td>1</td>\n",
       "    </tr>\n",
       "    <tr>\n",
       "      <th>3</th>\n",
       "      <td>0</td>\n",
       "      <td>0.0</td>\n",
       "      <td>0</td>\n",
       "      <td>0.0</td>\n",
       "      <td>2</td>\n",
       "      <td>2.666667</td>\n",
       "      <td>0.05</td>\n",
       "      <td>0.14</td>\n",
       "      <td>0.0</td>\n",
       "      <td>0.0</td>\n",
       "      <td>Feb</td>\n",
       "      <td>3</td>\n",
       "      <td>2</td>\n",
       "      <td>2</td>\n",
       "      <td>4</td>\n",
       "      <td>0</td>\n",
       "      <td>0</td>\n",
       "      <td>1</td>\n",
       "    </tr>\n",
       "    <tr>\n",
       "      <th>4</th>\n",
       "      <td>0</td>\n",
       "      <td>0.0</td>\n",
       "      <td>0</td>\n",
       "      <td>0.0</td>\n",
       "      <td>10</td>\n",
       "      <td>627.500000</td>\n",
       "      <td>0.02</td>\n",
       "      <td>0.05</td>\n",
       "      <td>0.0</td>\n",
       "      <td>0.0</td>\n",
       "      <td>Feb</td>\n",
       "      <td>3</td>\n",
       "      <td>3</td>\n",
       "      <td>1</td>\n",
       "      <td>4</td>\n",
       "      <td>1</td>\n",
       "      <td>0</td>\n",
       "      <td>1</td>\n",
       "    </tr>\n",
       "  </tbody>\n",
       "</table>\n",
       "</div>"
      ],
      "text/plain": [
       "   Administrative  Administrative_Duration  Informational  \\\n",
       "0               0                      0.0              0   \n",
       "1               0                      0.0              0   \n",
       "2               0                      0.0              0   \n",
       "3               0                      0.0              0   \n",
       "4               0                      0.0              0   \n",
       "\n",
       "   Informational_Duration  ProductRelated  ProductRelated_Duration  \\\n",
       "0                     0.0               1                 0.000000   \n",
       "1                     0.0               2                64.000000   \n",
       "2                     0.0               1                 0.000000   \n",
       "3                     0.0               2                 2.666667   \n",
       "4                     0.0              10               627.500000   \n",
       "\n",
       "   BounceRates  ExitRates  PageValues  SpecialDay Month  OperatingSystems  \\\n",
       "0         0.20       0.20         0.0         0.0   Feb                 1   \n",
       "1         0.00       0.10         0.0         0.0   Feb                 2   \n",
       "2         0.20       0.20         0.0         0.0   Feb                 4   \n",
       "3         0.05       0.14         0.0         0.0   Feb                 3   \n",
       "4         0.02       0.05         0.0         0.0   Feb                 3   \n",
       "\n",
       "   Browser  Region  TrafficType  Weekend  Revenue  Returning_Visitor  \n",
       "0        1       1            1        0        0                  1  \n",
       "1        2       1            2        0        0                  1  \n",
       "2        1       9            3        0        0                  1  \n",
       "3        2       2            4        0        0                  1  \n",
       "4        3       1            4        1        0                  1  "
      ]
     },
     "execution_count": 18,
     "metadata": {},
     "output_type": "execute_result"
    }
   ],
   "source": [
    "df.head()"
   ]
  },
  {
   "cell_type": "code",
   "execution_count": 19,
   "id": "8be5be2a",
   "metadata": {},
   "outputs": [
    {
     "data": {
      "text/plain": [
       "Administrative               int64\n",
       "Administrative_Duration    float64\n",
       "Informational                int64\n",
       "Informational_Duration     float64\n",
       "ProductRelated               int64\n",
       "ProductRelated_Duration    float64\n",
       "BounceRates                float64\n",
       "ExitRates                  float64\n",
       "PageValues                 float64\n",
       "SpecialDay                 float64\n",
       "Month                       object\n",
       "OperatingSystems             int64\n",
       "Browser                      int64\n",
       "Region                       int64\n",
       "TrafficType                  int64\n",
       "Weekend                      int64\n",
       "Revenue                      int64\n",
       "Returning_Visitor            int32\n",
       "dtype: object"
      ]
     },
     "execution_count": 19,
     "metadata": {},
     "output_type": "execute_result"
    }
   ],
   "source": [
    "df.dtypes  #checking all columns datatypes"
   ]
  },
  {
   "cell_type": "markdown",
   "id": "707496bd",
   "metadata": {},
   "source": [
    "***Handeling Month column with object dtype and converting it into integer data type using OrdinalEncoder***"
   ]
  },
  {
   "cell_type": "code",
   "execution_count": 20,
   "id": "d9111334",
   "metadata": {},
   "outputs": [
    {
     "data": {
      "text/plain": [
       "array(['Feb', 'Mar', 'May', 'Oct', 'June', 'Jul', 'Aug', 'Nov', 'Sep',\n",
       "       'Dec'], dtype=object)"
      ]
     },
     "execution_count": 20,
     "metadata": {},
     "output_type": "execute_result"
    }
   ],
   "source": [
    "df.Month.unique()  #checking unique values in Month column"
   ]
  },
  {
   "cell_type": "code",
   "execution_count": 21,
   "id": "46fff2ad",
   "metadata": {},
   "outputs": [],
   "source": [
    "ordinal_encoder=OrdinalEncoder()"
   ]
  },
  {
   "cell_type": "code",
   "execution_count": 22,
   "id": "17cc02bb",
   "metadata": {},
   "outputs": [],
   "source": [
    "df[\"Month\"]=ordinal_encoder.fit_transform(df[[\"Month\"]])"
   ]
  },
  {
   "cell_type": "code",
   "execution_count": null,
   "id": "a43eb185",
   "metadata": {},
   "outputs": [],
   "source": []
  },
  {
   "cell_type": "markdown",
   "id": "a1e798e9",
   "metadata": {},
   "source": [
    "***Quicklook on Target variable i.e; Revenue column***"
   ]
  },
  {
   "cell_type": "code",
   "execution_count": 23,
   "id": "99f8008c",
   "metadata": {},
   "outputs": [
    {
     "data": {
      "text/plain": [
       "0    10422\n",
       "1     1908\n",
       "Name: Revenue, dtype: int64"
      ]
     },
     "execution_count": 23,
     "metadata": {},
     "output_type": "execute_result"
    }
   ],
   "source": [
    "df.Revenue.value_counts()  #Checking the total counts of each unique class in Revenue column"
   ]
  },
  {
   "cell_type": "markdown",
   "id": "b7bf53d2",
   "metadata": {},
   "source": [
    "***Checking Correlation of features with Revenue column***"
   ]
  },
  {
   "cell_type": "code",
   "execution_count": 24,
   "id": "bcdee18f",
   "metadata": {},
   "outputs": [],
   "source": [
    "result=df.corr()[\"Revenue\"]"
   ]
  },
  {
   "cell_type": "code",
   "execution_count": 25,
   "id": "d1f292dd",
   "metadata": {},
   "outputs": [],
   "source": [
    "result1=result.sort_values(ascending=False)"
   ]
  },
  {
   "cell_type": "code",
   "execution_count": 26,
   "id": "575a619b",
   "metadata": {},
   "outputs": [
    {
     "data": {
      "text/plain": [
       "Revenue                    1.000000\n",
       "PageValues                 0.492569\n",
       "ProductRelated             0.158538\n",
       "ProductRelated_Duration    0.152373\n",
       "Administrative             0.138917\n",
       "Informational              0.095200\n",
       "Administrative_Duration    0.093587\n",
       "Month                      0.080150\n",
       "Informational_Duration     0.070345\n",
       "Weekend                    0.029295\n",
       "Browser                    0.023984\n",
       "TrafficType               -0.005113\n",
       "Region                    -0.011595\n",
       "OperatingSystems          -0.014668\n",
       "SpecialDay                -0.082305\n",
       "Returning_Visitor         -0.103843\n",
       "BounceRates               -0.150673\n",
       "ExitRates                 -0.207071\n",
       "Name: Revenue, dtype: float64"
      ]
     },
     "execution_count": 26,
     "metadata": {},
     "output_type": "execute_result"
    }
   ],
   "source": [
    "result1"
   ]
  },
  {
   "cell_type": "code",
   "execution_count": 27,
   "id": "182c50e3",
   "metadata": {},
   "outputs": [],
   "source": [
    "#The strongest predictor of conversion was PageValues column.\n",
    "#This column contains page value metric.\n",
    "#This is higher for customers who viewed product, basket and checkout pages.\n",
    "#thus it plays a significant role."
   ]
  },
  {
   "cell_type": "code",
   "execution_count": 28,
   "id": "10be2062",
   "metadata": {},
   "outputs": [],
   "source": [
    "#Customers who have viewed more product pages and spent longer time looking at them were also much more likely to have purchased"
   ]
  },
  {
   "cell_type": "markdown",
   "id": "edcf221b",
   "metadata": {},
   "source": [
    "#Preparing features and target"
   ]
  },
  {
   "cell_type": "code",
   "execution_count": 29,
   "id": "92f38312",
   "metadata": {},
   "outputs": [],
   "source": [
    "X=df.drop([\"Revenue\"],axis=1)  #creating features"
   ]
  },
  {
   "cell_type": "code",
   "execution_count": 30,
   "id": "ddcf2c03",
   "metadata": {},
   "outputs": [],
   "source": [
    "y=df[\"Revenue\"]  #creates target label"
   ]
  },
  {
   "cell_type": "markdown",
   "id": "7bfdd801",
   "metadata": {},
   "source": [
    "#Preparing Train & Test Dataset"
   ]
  },
  {
   "cell_type": "code",
   "execution_count": 31,
   "id": "133cb698",
   "metadata": {},
   "outputs": [],
   "source": [
    "X_train,X_test,y_train,y_test=train_test_split(X,y,test_size=0.3,random_state=0)"
   ]
  },
  {
   "cell_type": "markdown",
   "id": "a000c448",
   "metadata": {},
   "source": [
    "#Model Pipeline"
   ]
  },
  {
   "cell_type": "code",
   "execution_count": 32,
   "id": "d44e7310",
   "metadata": {},
   "outputs": [],
   "source": [
    "#Machine Learning Pipeline is the process of automating the workflow of our complete machine learning task.\n",
    "#This includes sequential steps that perform everything from start to end like data extraction and preprocessing \n",
    "    #to model training and deployment.\n",
    "#It means that in the pipeline each step is designed as an independent module, and all these module are tied together\n",
    "    #to get the final result.\n",
    "    \n",
    "#We will be creating a model pipeline, which will handle the data using ColumnTransformer(), impute missing values ,\n",
    "    # and also data scaling before passing it all to out final model.\n",
    "#By using this we can avoid manual generation of features, and make the process of inputting data into model fully automated."
   ]
  },
  {
   "cell_type": "code",
   "execution_count": 33,
   "id": "4fc13fcc",
   "metadata": {},
   "outputs": [],
   "source": [
    "def model_pipeline(X,model):\n",
    "    n_c=X.select_dtypes(exclude=[\"object\"]).columns.values.tolist()\n",
    "    c_c=X.select_dtypes(include=[\"object\"]).columns.values.tolist()\n",
    "    \n",
    "    numeric_columns=n_c\n",
    "    categorical_columns=c_c\n",
    "    \n",
    "    numeric_pipeline=SimpleImputer(strategy=\"constant\")\n",
    "    categorical_pipeline=OneHotEncoder(handle_unknown=\"ignore\")\n",
    "    \n",
    "    a=(\"numeric\",numeric_pipeline,numeric_columns)\n",
    "    b=(\"categorical\",categorical_pipeline,categorical_columns)\n",
    "    \n",
    "    preprocessor=ColumnTransformer(transformers=[a,b], remainder=\"passthrough\")\n",
    "    \n",
    "    c=(\"preprocessor\",preprocessor)\n",
    "    d=(\"smote\",SMOTE(random_state=1)) #for handeling class imbalance.\n",
    "    e=(\"scaler\",MinMaxScaler())\n",
    "    f=(\"feature_selection\",SelectKBest(score_func=chi2,k=7)) #to select optimal features, here 7 features as per correlation.\n",
    "    g=(\"model\",model)\n",
    "    \n",
    "    bundled_pipeline=imbpipeline(steps=[c,d,e,f,g])\n",
    "    \n",
    "    return bundled_pipeline"
   ]
  },
  {
   "cell_type": "markdown",
   "id": "0e6ca286",
   "metadata": {},
   "source": [
    "#Model Selection"
   ]
  },
  {
   "cell_type": "code",
   "execution_count": 34,
   "id": "3e6a022c",
   "metadata": {},
   "outputs": [],
   "source": [
    "#creating dictionary with all our selected classification algorithms, \n",
    "    #then looping through these models through pipeline for each model to run one by one automatically.\n",
    "    #eventually using cross_validation to get good performance and validity of each model.\n",
    "    #after that storing model results in DataFrame.\n",
    "    #Finally selecting the best model with highest ROC/AUC score."
   ]
  },
  {
   "cell_type": "code",
   "execution_count": 35,
   "id": "85a55fd9",
   "metadata": {},
   "outputs": [],
   "source": [
    "def select_model(X,y,pipeline=None):\n",
    "    \n",
    "    classifiers={}\n",
    "    \n",
    "    c_d1={\"DummyClassifier\":DummyClassifier(strategy=\"most_frequent\")}\n",
    "    classifiers.update(c_d1)\n",
    "    \n",
    "    xgb=XGBClassifier(verbosity=0, use_label_encoder=False, eval_metric=\"logloss\", objective=\"binary:logistic\")\n",
    "    c_d2={\"XGBClassifier\":xgb}\n",
    "    classifiers.update(c_d2)\n",
    "    \n",
    "    c_d3={\"LGBMClassifier\":LGBMClassifier()}\n",
    "    classifiers.update(c_d3)\n",
    "    \n",
    "    c_d4={\"RandomForestClassifier\":RandomForestClassifier()}\n",
    "    classifiers.update(c_d4)\n",
    "    \n",
    "    c_d5={\"DecisionTreeClassifier\":DecisionTreeClassifier()}\n",
    "    classifiers.update(c_d5)\n",
    "    \n",
    "    c_d6={\"ExtraTreeClassifier\":ExtraTreeClassifier()}\n",
    "    classifiers.update(c_d6)\n",
    "    \n",
    "    c_d7={\"ExtraTreesClassifier\":ExtraTreesClassifier()}\n",
    "    classifiers.update(c_d7)\n",
    "    \n",
    "    c_d8={\"AdaBoostClassifier\":AdaBoostClassifier()}\n",
    "    classifiers.update(c_d8)\n",
    "    \n",
    "    c_d9={\"KNeighborsClassifier\":KNeighborsClassifier()}\n",
    "    classifiers.update(c_d9)\n",
    "    \n",
    "    c_d10={\"RidgeClassifier\":RidgeClassifier()}\n",
    "    classifiers.update(c_d10)\n",
    "    \n",
    "    c_d11={\"SGDClassifier\":SGDClassifier()}\n",
    "    classifiers.update(c_d11)\n",
    "    \n",
    "    c_d12={\"BaggingClassifier\":BaggingClassifier()}\n",
    "    classifiers.update(c_d12)\n",
    "    \n",
    "    c_d13={\"BernoulliNB\":BernoulliNB()}\n",
    "    classifiers.update(c_d13)\n",
    "    \n",
    "    c_d14={\"SVC\":SVC()}\n",
    "    classifiers.update(c_d14)\n",
    "    \n",
    "    c_d15={\"MLPClassifier\":MLPClassifier()}\n",
    "    classifiers.update(c_d15)\n",
    "    \n",
    "    mlpc={\"MLPClassifier (paper)\":MLPClassifier(hidden_layer_sizes=(27,50),\n",
    "                                               max_iter=300, activation=\"relu\",\n",
    "                                               solver=\"adam\", random_state=1)}\n",
    "    \n",
    "    c_d16=mlpc\n",
    "    classifiers.update(c_d16)\n",
    "    \n",
    "    cols=[\"model\", \"run_time\", \"roc_auc\"]\n",
    "    df_models=pd.DataFrame(columns=cols)\n",
    "    \n",
    "    for key in classifiers:\n",
    "        start_time=time.time()\n",
    "        print()\n",
    "        print(\"model_pipeline run successfully on\",key)\n",
    "        \n",
    "        pipeline=model_pipeline(X_train,classifiers[key])\n",
    "        \n",
    "        cv=cross_val_score(pipeline, X, y, cv=10, scoring=\"roc_auc\")\n",
    "        \n",
    "        row={\"model\":key,\n",
    "            \"run_time\":format(round((time.time()-start_time)/60,2)),\n",
    "            \"roc_auc\":cv.mean()}\n",
    "        \n",
    "        df_models=pd.concat([df_models,pd.DataFrame([row])],ignore_index=True)\n",
    "        \n",
    "        df_models=df_models.sort_values(by=\"roc_auc\",ascending=False)\n",
    "        \n",
    "    return df_models"
   ]
  },
  {
   "cell_type": "markdown",
   "id": "5519c713",
   "metadata": {},
   "source": [
    "**Accessing Model *select_model* function**"
   ]
  },
  {
   "cell_type": "code",
   "execution_count": 36,
   "id": "4d28e2ba",
   "metadata": {},
   "outputs": [
    {
     "name": "stdout",
     "output_type": "stream",
     "text": [
      "\n",
      "model_pipeline run successfully on DummyClassifier\n",
      "\n",
      "model_pipeline run successfully on XGBClassifier\n",
      "\n",
      "model_pipeline run successfully on LGBMClassifier\n",
      "\n",
      "model_pipeline run successfully on RandomForestClassifier\n",
      "\n",
      "model_pipeline run successfully on DecisionTreeClassifier\n",
      "\n",
      "model_pipeline run successfully on ExtraTreeClassifier\n",
      "\n",
      "model_pipeline run successfully on ExtraTreesClassifier\n",
      "\n",
      "model_pipeline run successfully on AdaBoostClassifier\n",
      "\n",
      "model_pipeline run successfully on KNeighborsClassifier\n",
      "\n",
      "model_pipeline run successfully on RidgeClassifier\n",
      "\n",
      "model_pipeline run successfully on SGDClassifier\n",
      "\n",
      "model_pipeline run successfully on BaggingClassifier\n",
      "\n",
      "model_pipeline run successfully on BernoulliNB\n",
      "\n",
      "model_pipeline run successfully on SVC\n",
      "\n",
      "model_pipeline run successfully on MLPClassifier\n",
      "\n",
      "model_pipeline run successfully on MLPClassifier (paper)\n"
     ]
    }
   ],
   "source": [
    "models=select_model(X_train,y_train)"
   ]
  },
  {
   "cell_type": "markdown",
   "id": "db6bf4f7",
   "metadata": {},
   "source": [
    "#Total Model with Score"
   ]
  },
  {
   "cell_type": "code",
   "execution_count": 37,
   "id": "0403c6f2",
   "metadata": {},
   "outputs": [
    {
     "data": {
      "text/html": [
       "<div>\n",
       "<style scoped>\n",
       "    .dataframe tbody tr th:only-of-type {\n",
       "        vertical-align: middle;\n",
       "    }\n",
       "\n",
       "    .dataframe tbody tr th {\n",
       "        vertical-align: top;\n",
       "    }\n",
       "\n",
       "    .dataframe thead th {\n",
       "        text-align: right;\n",
       "    }\n",
       "</style>\n",
       "<table border=\"1\" class=\"dataframe\">\n",
       "  <thead>\n",
       "    <tr style=\"text-align: right;\">\n",
       "      <th></th>\n",
       "      <th>model</th>\n",
       "      <th>run_time</th>\n",
       "      <th>roc_auc</th>\n",
       "    </tr>\n",
       "  </thead>\n",
       "  <tbody>\n",
       "    <tr>\n",
       "      <th>0</th>\n",
       "      <td>MLPClassifier</td>\n",
       "      <td>4.27</td>\n",
       "      <td>0.910004</td>\n",
       "    </tr>\n",
       "    <tr>\n",
       "      <th>15</th>\n",
       "      <td>MLPClassifier (paper)</td>\n",
       "      <td>3.0</td>\n",
       "      <td>0.908575</td>\n",
       "    </tr>\n",
       "    <tr>\n",
       "      <th>1</th>\n",
       "      <td>LGBMClassifier</td>\n",
       "      <td>0.06</td>\n",
       "      <td>0.906965</td>\n",
       "    </tr>\n",
       "    <tr>\n",
       "      <th>2</th>\n",
       "      <td>RandomForestClassifier</td>\n",
       "      <td>0.56</td>\n",
       "      <td>0.903191</td>\n",
       "    </tr>\n",
       "    <tr>\n",
       "      <th>3</th>\n",
       "      <td>XGBClassifier</td>\n",
       "      <td>0.28</td>\n",
       "      <td>0.899905</td>\n",
       "    </tr>\n",
       "    <tr>\n",
       "      <th>4</th>\n",
       "      <td>ExtraTreesClassifier</td>\n",
       "      <td>0.28</td>\n",
       "      <td>0.899760</td>\n",
       "    </tr>\n",
       "    <tr>\n",
       "      <th>5</th>\n",
       "      <td>SGDClassifier</td>\n",
       "      <td>0.02</td>\n",
       "      <td>0.895751</td>\n",
       "    </tr>\n",
       "    <tr>\n",
       "      <th>6</th>\n",
       "      <td>AdaBoostClassifier</td>\n",
       "      <td>0.18</td>\n",
       "      <td>0.892649</td>\n",
       "    </tr>\n",
       "    <tr>\n",
       "      <th>7</th>\n",
       "      <td>SVC</td>\n",
       "      <td>0.98</td>\n",
       "      <td>0.890130</td>\n",
       "    </tr>\n",
       "    <tr>\n",
       "      <th>8</th>\n",
       "      <td>BaggingClassifier</td>\n",
       "      <td>0.14</td>\n",
       "      <td>0.878739</td>\n",
       "    </tr>\n",
       "    <tr>\n",
       "      <th>9</th>\n",
       "      <td>RidgeClassifier</td>\n",
       "      <td>0.02</td>\n",
       "      <td>0.864217</td>\n",
       "    </tr>\n",
       "    <tr>\n",
       "      <th>10</th>\n",
       "      <td>BernoulliNB</td>\n",
       "      <td>0.01</td>\n",
       "      <td>0.855067</td>\n",
       "    </tr>\n",
       "    <tr>\n",
       "      <th>11</th>\n",
       "      <td>KNeighborsClassifier</td>\n",
       "      <td>0.03</td>\n",
       "      <td>0.844592</td>\n",
       "    </tr>\n",
       "    <tr>\n",
       "      <th>12</th>\n",
       "      <td>ExtraTreeClassifier</td>\n",
       "      <td>0.01</td>\n",
       "      <td>0.771390</td>\n",
       "    </tr>\n",
       "    <tr>\n",
       "      <th>13</th>\n",
       "      <td>DecisionTreeClassifier</td>\n",
       "      <td>0.02</td>\n",
       "      <td>0.746766</td>\n",
       "    </tr>\n",
       "    <tr>\n",
       "      <th>14</th>\n",
       "      <td>DummyClassifier</td>\n",
       "      <td>0.04</td>\n",
       "      <td>0.500000</td>\n",
       "    </tr>\n",
       "  </tbody>\n",
       "</table>\n",
       "</div>"
      ],
      "text/plain": [
       "                     model run_time   roc_auc\n",
       "0            MLPClassifier     4.27  0.910004\n",
       "15   MLPClassifier (paper)      3.0  0.908575\n",
       "1           LGBMClassifier     0.06  0.906965\n",
       "2   RandomForestClassifier     0.56  0.903191\n",
       "3            XGBClassifier     0.28  0.899905\n",
       "4     ExtraTreesClassifier     0.28  0.899760\n",
       "5            SGDClassifier     0.02  0.895751\n",
       "6       AdaBoostClassifier     0.18  0.892649\n",
       "7                      SVC     0.98  0.890130\n",
       "8        BaggingClassifier     0.14  0.878739\n",
       "9          RidgeClassifier     0.02  0.864217\n",
       "10             BernoulliNB     0.01  0.855067\n",
       "11    KNeighborsClassifier     0.03  0.844592\n",
       "12     ExtraTreeClassifier     0.01  0.771390\n",
       "13  DecisionTreeClassifier     0.02  0.746766\n",
       "14         DummyClassifier     0.04  0.500000"
      ]
     },
     "execution_count": 37,
     "metadata": {},
     "output_type": "execute_result"
    }
   ],
   "source": [
    "models"
   ]
  },
  {
   "cell_type": "code",
   "execution_count": null,
   "id": "55a2b626",
   "metadata": {},
   "outputs": [],
   "source": []
  },
  {
   "cell_type": "code",
   "execution_count": 38,
   "id": "03f4ce27",
   "metadata": {},
   "outputs": [],
   "source": [
    "#The best performing model is MLPClassifier(), which generated ROC/AUC score of 0.910\n",
    "#We will select this model as our best model and examine the results in more details to see how well it works."
   ]
  },
  {
   "cell_type": "markdown",
   "id": "bfb3933a",
   "metadata": {},
   "source": [
    "#Examining the performance of our best model"
   ]
  },
  {
   "cell_type": "code",
   "execution_count": 39,
   "id": "8012ecc8",
   "metadata": {},
   "outputs": [],
   "source": [
    "#by re-running the model_pipeline() function on our selected model as the MLPClassifier(), \n",
    "#we can generate predictions and assess their accuracy on the test data."
   ]
  },
  {
   "cell_type": "markdown",
   "id": "11d70fde",
   "metadata": {},
   "source": [
    "#Accessing best model and Training"
   ]
  },
  {
   "cell_type": "code",
   "execution_count": 40,
   "id": "238ed48e",
   "metadata": {},
   "outputs": [],
   "source": [
    "selected_model=MLPClassifier()"
   ]
  },
  {
   "cell_type": "code",
   "execution_count": 41,
   "id": "69538d76",
   "metadata": {},
   "outputs": [],
   "source": [
    "bundled_pipeline=model_pipeline(X_train,selected_model)"
   ]
  },
  {
   "cell_type": "code",
   "execution_count": 42,
   "id": "7c6e95b6",
   "metadata": {
    "scrolled": true
   },
   "outputs": [
    {
     "data": {
      "text/html": [
       "<style>#sk-container-id-1 {color: black;background-color: white;}#sk-container-id-1 pre{padding: 0;}#sk-container-id-1 div.sk-toggleable {background-color: white;}#sk-container-id-1 label.sk-toggleable__label {cursor: pointer;display: block;width: 100%;margin-bottom: 0;padding: 0.3em;box-sizing: border-box;text-align: center;}#sk-container-id-1 label.sk-toggleable__label-arrow:before {content: \"▸\";float: left;margin-right: 0.25em;color: #696969;}#sk-container-id-1 label.sk-toggleable__label-arrow:hover:before {color: black;}#sk-container-id-1 div.sk-estimator:hover label.sk-toggleable__label-arrow:before {color: black;}#sk-container-id-1 div.sk-toggleable__content {max-height: 0;max-width: 0;overflow: hidden;text-align: left;background-color: #f0f8ff;}#sk-container-id-1 div.sk-toggleable__content pre {margin: 0.2em;color: black;border-radius: 0.25em;background-color: #f0f8ff;}#sk-container-id-1 input.sk-toggleable__control:checked~div.sk-toggleable__content {max-height: 200px;max-width: 100%;overflow: auto;}#sk-container-id-1 input.sk-toggleable__control:checked~label.sk-toggleable__label-arrow:before {content: \"▾\";}#sk-container-id-1 div.sk-estimator input.sk-toggleable__control:checked~label.sk-toggleable__label {background-color: #d4ebff;}#sk-container-id-1 div.sk-label input.sk-toggleable__control:checked~label.sk-toggleable__label {background-color: #d4ebff;}#sk-container-id-1 input.sk-hidden--visually {border: 0;clip: rect(1px 1px 1px 1px);clip: rect(1px, 1px, 1px, 1px);height: 1px;margin: -1px;overflow: hidden;padding: 0;position: absolute;width: 1px;}#sk-container-id-1 div.sk-estimator {font-family: monospace;background-color: #f0f8ff;border: 1px dotted black;border-radius: 0.25em;box-sizing: border-box;margin-bottom: 0.5em;}#sk-container-id-1 div.sk-estimator:hover {background-color: #d4ebff;}#sk-container-id-1 div.sk-parallel-item::after {content: \"\";width: 100%;border-bottom: 1px solid gray;flex-grow: 1;}#sk-container-id-1 div.sk-label:hover label.sk-toggleable__label {background-color: #d4ebff;}#sk-container-id-1 div.sk-serial::before {content: \"\";position: absolute;border-left: 1px solid gray;box-sizing: border-box;top: 0;bottom: 0;left: 50%;z-index: 0;}#sk-container-id-1 div.sk-serial {display: flex;flex-direction: column;align-items: center;background-color: white;padding-right: 0.2em;padding-left: 0.2em;position: relative;}#sk-container-id-1 div.sk-item {position: relative;z-index: 1;}#sk-container-id-1 div.sk-parallel {display: flex;align-items: stretch;justify-content: center;background-color: white;position: relative;}#sk-container-id-1 div.sk-item::before, #sk-container-id-1 div.sk-parallel-item::before {content: \"\";position: absolute;border-left: 1px solid gray;box-sizing: border-box;top: 0;bottom: 0;left: 50%;z-index: -1;}#sk-container-id-1 div.sk-parallel-item {display: flex;flex-direction: column;z-index: 1;position: relative;background-color: white;}#sk-container-id-1 div.sk-parallel-item:first-child::after {align-self: flex-end;width: 50%;}#sk-container-id-1 div.sk-parallel-item:last-child::after {align-self: flex-start;width: 50%;}#sk-container-id-1 div.sk-parallel-item:only-child::after {width: 0;}#sk-container-id-1 div.sk-dashed-wrapped {border: 1px dashed gray;margin: 0 0.4em 0.5em 0.4em;box-sizing: border-box;padding-bottom: 0.4em;background-color: white;}#sk-container-id-1 div.sk-label label {font-family: monospace;font-weight: bold;display: inline-block;line-height: 1.2em;}#sk-container-id-1 div.sk-label-container {text-align: center;}#sk-container-id-1 div.sk-container {/* jupyter's `normalize.less` sets `[hidden] { display: none; }` but bootstrap.min.css set `[hidden] { display: none !important; }` so we also need the `!important` here to be able to override the default hidden behavior on the sphinx rendered scikit-learn.org. See: https://github.com/scikit-learn/scikit-learn/issues/21755 */display: inline-block !important;position: relative;}#sk-container-id-1 div.sk-text-repr-fallback {display: none;}</style><div id=\"sk-container-id-1\" class=\"sk-top-container\"><div class=\"sk-text-repr-fallback\"><pre>Pipeline(steps=[(&#x27;preprocessor&#x27;,\n",
       "                 ColumnTransformer(remainder=&#x27;passthrough&#x27;,\n",
       "                                   transformers=[(&#x27;numeric&#x27;,\n",
       "                                                  SimpleImputer(strategy=&#x27;constant&#x27;),\n",
       "                                                  [&#x27;Administrative&#x27;,\n",
       "                                                   &#x27;Administrative_Duration&#x27;,\n",
       "                                                   &#x27;Informational&#x27;,\n",
       "                                                   &#x27;Informational_Duration&#x27;,\n",
       "                                                   &#x27;ProductRelated&#x27;,\n",
       "                                                   &#x27;ProductRelated_Duration&#x27;,\n",
       "                                                   &#x27;BounceRates&#x27;, &#x27;ExitRates&#x27;,\n",
       "                                                   &#x27;PageValues&#x27;, &#x27;SpecialDay&#x27;,\n",
       "                                                   &#x27;Month&#x27;, &#x27;OperatingSystems&#x27;,\n",
       "                                                   &#x27;Browser&#x27;, &#x27;Region&#x27;,\n",
       "                                                   &#x27;TrafficType&#x27;, &#x27;Weekend&#x27;,\n",
       "                                                   &#x27;Returning_Visitor&#x27;]),\n",
       "                                                 (&#x27;categorical&#x27;,\n",
       "                                                  OneHotEncoder(handle_unknown=&#x27;ignore&#x27;),\n",
       "                                                  [])])),\n",
       "                (&#x27;smote&#x27;, SMOTE(random_state=1)), (&#x27;scaler&#x27;, MinMaxScaler()),\n",
       "                (&#x27;feature_selection&#x27;,\n",
       "                 SelectKBest(k=7,\n",
       "                             score_func=&lt;function chi2 at 0x00000188BE5FDB20&gt;)),\n",
       "                (&#x27;model&#x27;, MLPClassifier())])</pre><b>In a Jupyter environment, please rerun this cell to show the HTML representation or trust the notebook. <br />On GitHub, the HTML representation is unable to render, please try loading this page with nbviewer.org.</b></div><div class=\"sk-container\" hidden><div class=\"sk-item sk-dashed-wrapped\"><div class=\"sk-label-container\"><div class=\"sk-label sk-toggleable\"><input class=\"sk-toggleable__control sk-hidden--visually\" id=\"sk-estimator-id-1\" type=\"checkbox\" ><label for=\"sk-estimator-id-1\" class=\"sk-toggleable__label sk-toggleable__label-arrow\">Pipeline</label><div class=\"sk-toggleable__content\"><pre>Pipeline(steps=[(&#x27;preprocessor&#x27;,\n",
       "                 ColumnTransformer(remainder=&#x27;passthrough&#x27;,\n",
       "                                   transformers=[(&#x27;numeric&#x27;,\n",
       "                                                  SimpleImputer(strategy=&#x27;constant&#x27;),\n",
       "                                                  [&#x27;Administrative&#x27;,\n",
       "                                                   &#x27;Administrative_Duration&#x27;,\n",
       "                                                   &#x27;Informational&#x27;,\n",
       "                                                   &#x27;Informational_Duration&#x27;,\n",
       "                                                   &#x27;ProductRelated&#x27;,\n",
       "                                                   &#x27;ProductRelated_Duration&#x27;,\n",
       "                                                   &#x27;BounceRates&#x27;, &#x27;ExitRates&#x27;,\n",
       "                                                   &#x27;PageValues&#x27;, &#x27;SpecialDay&#x27;,\n",
       "                                                   &#x27;Month&#x27;, &#x27;OperatingSystems&#x27;,\n",
       "                                                   &#x27;Browser&#x27;, &#x27;Region&#x27;,\n",
       "                                                   &#x27;TrafficType&#x27;, &#x27;Weekend&#x27;,\n",
       "                                                   &#x27;Returning_Visitor&#x27;]),\n",
       "                                                 (&#x27;categorical&#x27;,\n",
       "                                                  OneHotEncoder(handle_unknown=&#x27;ignore&#x27;),\n",
       "                                                  [])])),\n",
       "                (&#x27;smote&#x27;, SMOTE(random_state=1)), (&#x27;scaler&#x27;, MinMaxScaler()),\n",
       "                (&#x27;feature_selection&#x27;,\n",
       "                 SelectKBest(k=7,\n",
       "                             score_func=&lt;function chi2 at 0x00000188BE5FDB20&gt;)),\n",
       "                (&#x27;model&#x27;, MLPClassifier())])</pre></div></div></div><div class=\"sk-serial\"><div class=\"sk-item sk-dashed-wrapped\"><div class=\"sk-label-container\"><div class=\"sk-label sk-toggleable\"><input class=\"sk-toggleable__control sk-hidden--visually\" id=\"sk-estimator-id-2\" type=\"checkbox\" ><label for=\"sk-estimator-id-2\" class=\"sk-toggleable__label sk-toggleable__label-arrow\">preprocessor: ColumnTransformer</label><div class=\"sk-toggleable__content\"><pre>ColumnTransformer(remainder=&#x27;passthrough&#x27;,\n",
       "                  transformers=[(&#x27;numeric&#x27;, SimpleImputer(strategy=&#x27;constant&#x27;),\n",
       "                                 [&#x27;Administrative&#x27;, &#x27;Administrative_Duration&#x27;,\n",
       "                                  &#x27;Informational&#x27;, &#x27;Informational_Duration&#x27;,\n",
       "                                  &#x27;ProductRelated&#x27;, &#x27;ProductRelated_Duration&#x27;,\n",
       "                                  &#x27;BounceRates&#x27;, &#x27;ExitRates&#x27;, &#x27;PageValues&#x27;,\n",
       "                                  &#x27;SpecialDay&#x27;, &#x27;Month&#x27;, &#x27;OperatingSystems&#x27;,\n",
       "                                  &#x27;Browser&#x27;, &#x27;Region&#x27;, &#x27;TrafficType&#x27;, &#x27;Weekend&#x27;,\n",
       "                                  &#x27;Returning_Visitor&#x27;]),\n",
       "                                (&#x27;categorical&#x27;,\n",
       "                                 OneHotEncoder(handle_unknown=&#x27;ignore&#x27;), [])])</pre></div></div></div><div class=\"sk-parallel\"><div class=\"sk-parallel-item\"><div class=\"sk-item\"><div class=\"sk-label-container\"><div class=\"sk-label sk-toggleable\"><input class=\"sk-toggleable__control sk-hidden--visually\" id=\"sk-estimator-id-3\" type=\"checkbox\" ><label for=\"sk-estimator-id-3\" class=\"sk-toggleable__label sk-toggleable__label-arrow\">numeric</label><div class=\"sk-toggleable__content\"><pre>[&#x27;Administrative&#x27;, &#x27;Administrative_Duration&#x27;, &#x27;Informational&#x27;, &#x27;Informational_Duration&#x27;, &#x27;ProductRelated&#x27;, &#x27;ProductRelated_Duration&#x27;, &#x27;BounceRates&#x27;, &#x27;ExitRates&#x27;, &#x27;PageValues&#x27;, &#x27;SpecialDay&#x27;, &#x27;Month&#x27;, &#x27;OperatingSystems&#x27;, &#x27;Browser&#x27;, &#x27;Region&#x27;, &#x27;TrafficType&#x27;, &#x27;Weekend&#x27;, &#x27;Returning_Visitor&#x27;]</pre></div></div></div><div class=\"sk-serial\"><div class=\"sk-item\"><div class=\"sk-estimator sk-toggleable\"><input class=\"sk-toggleable__control sk-hidden--visually\" id=\"sk-estimator-id-4\" type=\"checkbox\" ><label for=\"sk-estimator-id-4\" class=\"sk-toggleable__label sk-toggleable__label-arrow\">SimpleImputer</label><div class=\"sk-toggleable__content\"><pre>SimpleImputer(strategy=&#x27;constant&#x27;)</pre></div></div></div></div></div></div><div class=\"sk-parallel-item\"><div class=\"sk-item\"><div class=\"sk-label-container\"><div class=\"sk-label sk-toggleable\"><input class=\"sk-toggleable__control sk-hidden--visually\" id=\"sk-estimator-id-5\" type=\"checkbox\" ><label for=\"sk-estimator-id-5\" class=\"sk-toggleable__label sk-toggleable__label-arrow\">categorical</label><div class=\"sk-toggleable__content\"><pre>[]</pre></div></div></div><div class=\"sk-serial\"><div class=\"sk-item\"><div class=\"sk-estimator sk-toggleable\"><input class=\"sk-toggleable__control sk-hidden--visually\" id=\"sk-estimator-id-6\" type=\"checkbox\" ><label for=\"sk-estimator-id-6\" class=\"sk-toggleable__label sk-toggleable__label-arrow\">OneHotEncoder</label><div class=\"sk-toggleable__content\"><pre>OneHotEncoder(handle_unknown=&#x27;ignore&#x27;)</pre></div></div></div></div></div></div><div class=\"sk-parallel-item\"><div class=\"sk-item\"><div class=\"sk-label-container\"><div class=\"sk-label sk-toggleable\"><input class=\"sk-toggleable__control sk-hidden--visually\" id=\"sk-estimator-id-7\" type=\"checkbox\" ><label for=\"sk-estimator-id-7\" class=\"sk-toggleable__label sk-toggleable__label-arrow\">remainder</label><div class=\"sk-toggleable__content\"><pre>[]</pre></div></div></div><div class=\"sk-serial\"><div class=\"sk-item\"><div class=\"sk-estimator sk-toggleable\"><input class=\"sk-toggleable__control sk-hidden--visually\" id=\"sk-estimator-id-8\" type=\"checkbox\" ><label for=\"sk-estimator-id-8\" class=\"sk-toggleable__label sk-toggleable__label-arrow\">passthrough</label><div class=\"sk-toggleable__content\"><pre>passthrough</pre></div></div></div></div></div></div></div></div><div class=\"sk-item\"><div class=\"sk-estimator sk-toggleable\"><input class=\"sk-toggleable__control sk-hidden--visually\" id=\"sk-estimator-id-9\" type=\"checkbox\" ><label for=\"sk-estimator-id-9\" class=\"sk-toggleable__label sk-toggleable__label-arrow\">SMOTE</label><div class=\"sk-toggleable__content\"><pre>SMOTE(random_state=1)</pre></div></div></div><div class=\"sk-item\"><div class=\"sk-estimator sk-toggleable\"><input class=\"sk-toggleable__control sk-hidden--visually\" id=\"sk-estimator-id-10\" type=\"checkbox\" ><label for=\"sk-estimator-id-10\" class=\"sk-toggleable__label sk-toggleable__label-arrow\">MinMaxScaler</label><div class=\"sk-toggleable__content\"><pre>MinMaxScaler()</pre></div></div></div><div class=\"sk-item\"><div class=\"sk-estimator sk-toggleable\"><input class=\"sk-toggleable__control sk-hidden--visually\" id=\"sk-estimator-id-11\" type=\"checkbox\" ><label for=\"sk-estimator-id-11\" class=\"sk-toggleable__label sk-toggleable__label-arrow\">SelectKBest</label><div class=\"sk-toggleable__content\"><pre>SelectKBest(k=7, score_func=&lt;function chi2 at 0x00000188BE5FDB20&gt;)</pre></div></div></div><div class=\"sk-item\"><div class=\"sk-estimator sk-toggleable\"><input class=\"sk-toggleable__control sk-hidden--visually\" id=\"sk-estimator-id-12\" type=\"checkbox\" ><label for=\"sk-estimator-id-12\" class=\"sk-toggleable__label sk-toggleable__label-arrow\">MLPClassifier</label><div class=\"sk-toggleable__content\"><pre>MLPClassifier()</pre></div></div></div></div></div></div></div>"
      ],
      "text/plain": [
       "Pipeline(steps=[('preprocessor',\n",
       "                 ColumnTransformer(remainder='passthrough',\n",
       "                                   transformers=[('numeric',\n",
       "                                                  SimpleImputer(strategy='constant'),\n",
       "                                                  ['Administrative',\n",
       "                                                   'Administrative_Duration',\n",
       "                                                   'Informational',\n",
       "                                                   'Informational_Duration',\n",
       "                                                   'ProductRelated',\n",
       "                                                   'ProductRelated_Duration',\n",
       "                                                   'BounceRates', 'ExitRates',\n",
       "                                                   'PageValues', 'SpecialDay',\n",
       "                                                   'Month', 'OperatingSystems',\n",
       "                                                   'Browser', 'Region',\n",
       "                                                   'TrafficType', 'Weekend',\n",
       "                                                   'Returning_Visitor']),\n",
       "                                                 ('categorical',\n",
       "                                                  OneHotEncoder(handle_unknown='ignore'),\n",
       "                                                  [])])),\n",
       "                ('smote', SMOTE(random_state=1)), ('scaler', MinMaxScaler()),\n",
       "                ('feature_selection',\n",
       "                 SelectKBest(k=7,\n",
       "                             score_func=<function chi2 at 0x00000188BE5FDB20>)),\n",
       "                ('model', MLPClassifier())])"
      ]
     },
     "execution_count": 42,
     "metadata": {},
     "output_type": "execute_result"
    }
   ],
   "source": [
    "#training\n",
    "bundled_pipeline.fit(X_train,y_train)"
   ]
  },
  {
   "cell_type": "markdown",
   "id": "9223b2fb",
   "metadata": {},
   "source": [
    "#Prediction with best fitted model"
   ]
  },
  {
   "cell_type": "code",
   "execution_count": 43,
   "id": "3ebcd227",
   "metadata": {},
   "outputs": [],
   "source": [
    "#prediction\n",
    "y_pred=bundled_pipeline.predict(X_test)"
   ]
  },
  {
   "cell_type": "code",
   "execution_count": 44,
   "id": "49ffdc45",
   "metadata": {},
   "outputs": [
    {
     "data": {
      "text/plain": [
       "array([0, 0, 0, ..., 0, 0, 0], dtype=int64)"
      ]
     },
     "execution_count": 44,
     "metadata": {},
     "output_type": "execute_result"
    }
   ],
   "source": [
    "y_pred"
   ]
  },
  {
   "cell_type": "markdown",
   "id": "341cbafb",
   "metadata": {},
   "source": [
    "#ROC/AUC score"
   ]
  },
  {
   "cell_type": "code",
   "execution_count": 45,
   "id": "457c891f",
   "metadata": {},
   "outputs": [],
   "source": [
    "roc_auc=roc_auc_score(y_test,y_pred)\n",
    "accuracy=accuracy_score(y_test,y_pred)\n",
    "f1=f1_score(y_test,y_pred)"
   ]
  },
  {
   "cell_type": "code",
   "execution_count": 46,
   "id": "8456f1b6",
   "metadata": {},
   "outputs": [
    {
     "name": "stdout",
     "output_type": "stream",
     "text": [
      "ROC/AUC: 0.835597739477735 \n",
      "Accuracy: 0.8726682887266829 \n",
      "F1 score: 0.6731436502428868\n"
     ]
    }
   ],
   "source": [
    "print(\"ROC/AUC:\",roc_auc,\"\\nAccuracy:\",accuracy,\"\\nF1 score:\",f1)"
   ]
  },
  {
   "cell_type": "markdown",
   "id": "89480245",
   "metadata": {},
   "source": [
    "***This shows that the MLPClassifier model generated a ROC/AUC score of 0.91 on the training data, which is really Good.\n",
    "but it shows a slightly low ROC/AUC score of 0.83 on test data, with an overall Accuracy of 0.87.***"
   ]
  },
  {
   "cell_type": "markdown",
   "id": "1ea6d4a7",
   "metadata": {},
   "source": [
    "#Classification Report"
   ]
  },
  {
   "cell_type": "code",
   "execution_count": 47,
   "id": "345f97dd",
   "metadata": {},
   "outputs": [],
   "source": [
    "classify_report=classification_report(y_test,y_pred)"
   ]
  },
  {
   "cell_type": "code",
   "execution_count": 48,
   "id": "114d6e0b",
   "metadata": {},
   "outputs": [
    {
     "name": "stdout",
     "output_type": "stream",
     "text": [
      "\n",
      "                   CLASSIFICATION REPORT\n",
      "\n",
      "\n",
      "               precision    recall  f1-score   support\n",
      "\n",
      "           0       0.95      0.89      0.92      3077\n",
      "           1       0.59      0.78      0.67       622\n",
      "\n",
      "    accuracy                           0.87      3699\n",
      "   macro avg       0.77      0.84      0.80      3699\n",
      "weighted avg       0.89      0.87      0.88      3699\n",
      "\n"
     ]
    }
   ],
   "source": [
    "print(\"\\n                   CLASSIFICATION REPORT\\n\\n\\n\",classify_report)"
   ]
  },
  {
   "cell_type": "markdown",
   "id": "47dcb4af",
   "metadata": {},
   "source": [
    "#Conclusion"
   ]
  },
  {
   "cell_type": "code",
   "execution_count": 49,
   "id": "1310cafb",
   "metadata": {},
   "outputs": [],
   "source": [
    "#We examined our selected best performing model i.e; MLPClassifier with Classification Matrix.\n",
    "\n",
    "#It showed that-\n",
    "#We correctly predicted Customers (89% recall on 0 class) wouldn't purchase during their session.\n",
    "#We correctly predicted that 78% of customers will make some purchase during their session.\n",
    "#Overall Accuracy is of 87%.\n",
    "\n",
    "#The Result shows that its possible to predict purchase intention through customer behavior data with a good degree of accuracy."
   ]
  },
  {
   "cell_type": "code",
   "execution_count": null,
   "id": "d9019f22",
   "metadata": {},
   "outputs": [],
   "source": []
  }
 ],
 "metadata": {
  "kernelspec": {
   "display_name": "Python 3 (ipykernel)",
   "language": "python",
   "name": "python3"
  },
  "language_info": {
   "codemirror_mode": {
    "name": "ipython",
    "version": 3
   },
   "file_extension": ".py",
   "mimetype": "text/x-python",
   "name": "python",
   "nbconvert_exporter": "python",
   "pygments_lexer": "ipython3",
   "version": "3.11.1"
  }
 },
 "nbformat": 4,
 "nbformat_minor": 5
}
